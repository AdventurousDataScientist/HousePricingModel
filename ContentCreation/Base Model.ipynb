{
 "cells": [
  {
   "cell_type": "markdown",
   "id": "324feb7f",
   "metadata": {},
   "source": [
    "# Overview\n"
   ]
  },
  {
   "cell_type": "markdown",
   "id": "384b7d86",
   "metadata": {},
   "source": [
    "This notebook is created for solving the [Kaggle House Price Modeling Challenge](https://www.kaggle.com/competitions/house-prices-advanced-regression-techniques). The dataset has various categorical (nominal, binary, and ordinal variables) and numerical variables to determine the selling price of a house. The training dataset is rather small (1460) and it has a lot of variables (81). The lack of data and the huge number of variables was a pretty big challenge in this competition.\n",
    "\n",
    "This notebook is my first base model to solving the problem. I perform a bit of EDA (exploratory data analysis) and I cycle through several models such as Linear Regression all the way to Xgboost and I also use a bit of model stacking to optimize model performance. \n",
    "\n"
   ]
  },
  {
   "cell_type": "markdown",
   "id": "cffb7c75",
   "metadata": {},
   "source": [
    "## Table of Contents"
   ]
  },
  {
   "cell_type": "markdown",
   "id": "7042f76c",
   "metadata": {},
   "source": [
    "1. [Utility Functions](#utility)\n",
    "2. [Handling Missing Values](#missing_values)\n",
    "3. [Understanding Target Variable](#target)\n",
    "4. [Modeling](#modeling)"
   ]
  },
  {
   "cell_type": "code",
   "execution_count": 27,
   "id": "fb649f00",
   "metadata": {},
   "outputs": [],
   "source": [
    "import sys\n",
    " \n",
    "sys.path.append('C:\\\\Users\\\\Nikhil\\\\Data_Science_Projects')\n",
    "from common_ds_modules import missing_values, data_manipulation, modeling\n",
    "import os\n",
    "import pandas as pd\n",
    "import numpy as np\n",
    "import numpy as np\n",
    "from sklearn.impute import SimpleImputer\n",
    "from sklearn.linear_model import LinearRegression\n",
    "import seaborn as sns\n",
    "from sklearn.model_selection import cross_val_score\n",
    "import matplotlib.pyplot as plt\n",
    "from sklearn.model_selection import GridSearchCV, RandomizedSearchCV\n",
    "from sklearn.ensemble import RandomForestRegressor\n",
    "import numpy as np\n",
    "from sklearn.preprocessing import StandardScaler\n",
    "from sklearn.pipeline import Pipeline\n",
    "from sklearn.model_selection import train_test_split, GridSearchCV\n",
    "from sklearn.linear_model import Lasso\n",
    "from sklearn.model_selection import cross_val_score\n",
    "from sklearn.model_selection import RandomizedSearchCV\n",
    "from sklearn.tree import DecisionTreeRegressor\n",
    "from xgboost import XGBRegressor\n",
    "import pickle\n",
    "from sklearn.linear_model import Lasso, Ridge, ElasticNet\n",
    "from sklearn.preprocessing import StandardScaler\n",
    "from sklearn.neighbors import KNeighborsRegressor\n",
    "from sklearn.ensemble import StackingRegressor"
   ]
  },
  {
   "cell_type": "markdown",
   "id": "cf742c55",
   "metadata": {},
   "source": [
    "### Utility Functions <a id='utility'></a>"
   ]
  },
  {
   "cell_type": "code",
   "execution_count": 28,
   "id": "03ed4c60",
   "metadata": {},
   "outputs": [],
   "source": [
    "def get_column(df, query=''):\n",
    "    for c in df.columns:\n",
    "        if query.lower() in c.lower():\n",
    "            print(f'Column: {c}')"
   ]
  },
  {
   "cell_type": "code",
   "execution_count": 29,
   "id": "f94ba78d",
   "metadata": {},
   "outputs": [],
   "source": [
    "MAX_MODELS = 100"
   ]
  },
  {
   "cell_type": "code",
   "execution_count": 30,
   "id": "4519217f",
   "metadata": {},
   "outputs": [],
   "source": [
    "train_df = pd.read_csv('train.csv')\n",
    "test_df = pd.read_csv('test.csv')"
   ]
  },
  {
   "cell_type": "code",
   "execution_count": 31,
   "id": "85876888",
   "metadata": {},
   "outputs": [],
   "source": [
    "train_df['MSSubClass'] = train_df['MSSubClass'].apply(lambda x: str(x))\n",
    "test_df['MSSubClass'] = test_df['MSSubClass'].apply(lambda x: str(x))\n",
    "train_df['LogSalePrice'] = np.log(train_df['SalePrice'] + 1)\n"
   ]
  },
  {
   "cell_type": "markdown",
   "id": "7966c3c1",
   "metadata": {},
   "source": [
    "### Fill in Missing Values <a id='missing_values'></a>"
   ]
  },
  {
   "cell_type": "code",
   "execution_count": 33,
   "id": "22de86be",
   "metadata": {},
   "outputs": [],
   "source": [
    "rename_columns = {'1stFlrSF': 'FirstFlrSF', '2ndFlrSF':'SecondFlrSF', '3SsnPorch':'ThreeSeasonPorch'} \n",
    "    \n",
    "\n",
    "train_df = train_df.rename(rename_columns, axis='columns')\n",
    "test_df = test_df.rename(rename_columns, axis='columns')"
   ]
  },
  {
   "cell_type": "markdown",
   "id": "fc15d39d",
   "metadata": {},
   "source": [
    "Getting rid of all columns that have more than 30% missing values. I chose 30 as a rather arbitrary number, I thought it was just right, if it is more than 30, then you will corrupt the variable distribution with the fill in value. "
   ]
  },
  {
   "cell_type": "markdown",
   "id": "8a76e871",
   "metadata": {},
   "source": [
    "For categorical variables I fill in missing values by using the mode, and for numerical variables I use the mean."
   ]
  },
  {
   "cell_type": "code",
   "execution_count": 34,
   "id": "8efd4261",
   "metadata": {},
   "outputs": [],
   "source": [
    "train_drop = missing_values.get_high_missing_value_columns(train_df, 30)\n",
    "test_drop = missing_values.get_high_missing_value_columns(test_df, 30)\n",
    "\n",
    "\n",
    "train_low_missing_vals_df = train_df.drop(train_drop, axis='columns')\n",
    "test_low_missing_vals_df = test_df.drop(test_drop, axis='columns')"
   ]
  },
  {
   "cell_type": "markdown",
   "id": "7842e03c",
   "metadata": {},
   "source": [
    "This function gets the numerical and categorical variables, and fills in missing values as well."
   ]
  },
  {
   "cell_type": "code",
   "execution_count": 35,
   "id": "97c88071",
   "metadata": {},
   "outputs": [],
   "source": [
    "numerical_variables, categorical_variables = data_manipulation.get_numerical_categorical_variables(train_low_missing_vals_df,\\\n",
    "                                                                                            test_low_missing_vals_df, 'Id')\n",
    "                                                                                                   "
   ]
  },
  {
   "cell_type": "markdown",
   "id": "8d82e1d1",
   "metadata": {},
   "source": [
    "Sanity check to make sure that training and testing dataset don't have any columns with missing values after fill in."
   ]
  },
  {
   "cell_type": "code",
   "execution_count": 36,
   "id": "3abc66be",
   "metadata": {},
   "outputs": [],
   "source": [
    "missing_values.get_null_columns(train_low_missing_vals_df)\n",
    "missing_values.get_null_columns(test_low_missing_vals_df)"
   ]
  },
  {
   "cell_type": "code",
   "execution_count": 37,
   "id": "86363455",
   "metadata": {},
   "outputs": [],
   "source": [
    "def plot_variable_dist(df, variables):\n",
    "    for c in variables:\n",
    "        plt.hist(train_df[c])\n",
    "        plt.title(f'Distribution for {c}')\n",
    "        plt.show()"
   ]
  },
  {
   "cell_type": "markdown",
   "id": "574fddb0",
   "metadata": {},
   "source": [
    "## Understanding the target variable <a id='target'></a>"
   ]
  },
  {
   "cell_type": "markdown",
   "id": "32fc235e",
   "metadata": {},
   "source": [
    "For this problem I am trying to predict the SalePrice, so that is the target. In this section I will create a few plots to examine the SalePrice variable"
   ]
  },
  {
   "cell_type": "code",
   "execution_count": 38,
   "id": "503fd802",
   "metadata": {},
   "outputs": [],
   "source": [
    "target = 'SalePrice'"
   ]
  },
  {
   "cell_type": "code",
   "execution_count": 39,
   "id": "31916215",
   "metadata": {},
   "outputs": [
    {
     "name": "stderr",
     "output_type": "stream",
     "text": [
      "C:\\Users\\Nikhil\\anaconda3\\lib\\site-packages\\seaborn\\_decorators.py:36: FutureWarning: Pass the following variable as a keyword arg: x. From version 0.12, the only valid positional argument will be `data`, and passing other arguments without an explicit keyword will result in an error or misinterpretation.\n",
      "  warnings.warn(\n"
     ]
    },
    {
     "data": {
      "image/png": "[encoded data removed]",
      "text/plain": [
       "<Figure size 432x288 with 1 Axes>"
      ]
     },
     "metadata": {
      "needs_background": "light"
     },
     "output_type": "display_data"
    }
   ],
   "source": [
    "sns.boxplot(train_df[target])\n",
    "plt.show()"
   ]
  },
  {
   "cell_type": "code",
   "execution_count": 40,
   "id": "a025ca9a",
   "metadata": {},
   "outputs": [
    {
     "name": "stdout",
     "output_type": "stream",
     "text": [
      "Max outlier: 340037.5\n",
      "Percentage of outliers: 4.0\n"
     ]
    }
   ],
   "source": [
    "q1 = np.percentile(train_df[target], 25)\n",
    "q3 = np.percentile(train_df[target], 75)\n",
    "iqr = q3 - q1\n",
    "max_outlier = q3+1.5*iqr\n",
    "print(f'Max outlier: {max_outlier}')\n",
    "num_outliers = train_df[train_df['SalePrice'] > max_outlier].shape[0]\n",
    "print(f'Percentage of outliers: {100*round(num_outliers/train_df.shape[0], 2)}')"
   ]
  },
  {
   "cell_type": "markdown",
   "id": "0bafdfca",
   "metadata": {},
   "source": [
    "#### Histogram of Sale Price"
   ]
  },
  {
   "cell_type": "code",
   "execution_count": 41,
   "id": "738187d4",
   "metadata": {},
   "outputs": [
    {
     "data": {
      "text/plain": [
       "(array([148., 723., 373., 135.,  51.,  19.,   4.,   3.,   2.,   2.]),\n",
       " array([ 34900., 106910., 178920., 250930., 322940., 394950., 466960.,\n",
       "        538970., 610980., 682990., 755000.]),\n",
       " <BarContainer object of 10 artists>)"
      ]
     },
     "execution_count": 41,
     "metadata": {},
     "output_type": "execute_result"
    },
    {
     "data": {
      "image/png": "[encoded data removed]",
      "text/plain": [
       "<Figure size 432x288 with 1 Axes>"
      ]
     },
     "metadata": {
      "needs_background": "light"
     },
     "output_type": "display_data"
    }
   ],
   "source": [
    "plt.hist(train_df['SalePrice'])"
   ]
  },
  {
   "cell_type": "code",
   "execution_count": 42,
   "id": "cd579b99",
   "metadata": {},
   "outputs": [],
   "source": [
    "label = 'SalePrice'"
   ]
  },
  {
   "cell_type": "markdown",
   "id": "a3426cd3",
   "metadata": {},
   "source": [
    "### Correlation Matrix for all numerical variables"
   ]
  },
  {
   "cell_type": "code",
   "execution_count": 43,
   "id": "eed76551",
   "metadata": {},
   "outputs": [
    {
     "data": {
      "text/html": [
       "<div>\n",
       "<style scoped>\n",
       "    .dataframe tbody tr th:only-of-type {\n",
       "        vertical-align: middle;\n",
       "    }\n",
       "\n",
       "    .dataframe tbody tr th {\n",
       "        vertical-align: top;\n",
       "    }\n",
       "\n",
       "    .dataframe thead th {\n",
       "        text-align: right;\n",
       "    }\n",
       "</style>\n",
       "<table border=\"1\" class=\"dataframe\">\n",
       "  <thead>\n",
       "    <tr style=\"text-align: right;\">\n",
       "      <th></th>\n",
       "      <th>Fireplaces</th>\n",
       "      <th>MasVnrArea</th>\n",
       "      <th>GarageYrBlt</th>\n",
       "      <th>YearRemodAdd</th>\n",
       "      <th>YearBuilt</th>\n",
       "      <th>TotRmsAbvGrd</th>\n",
       "      <th>FullBath</th>\n",
       "      <th>FirstFlrSF</th>\n",
       "      <th>TotalBsmtSF</th>\n",
       "      <th>GarageArea</th>\n",
       "      <th>GarageCars</th>\n",
       "      <th>GrLivArea</th>\n",
       "      <th>OverallQual</th>\n",
       "      <th>LogSalePrice</th>\n",
       "    </tr>\n",
       "  </thead>\n",
       "  <tbody>\n",
       "    <tr>\n",
       "      <th>Fireplaces</th>\n",
       "      <td>1.000000</td>\n",
       "      <td>0.249070</td>\n",
       "      <td>0.046822</td>\n",
       "      <td>0.112581</td>\n",
       "      <td>0.147716</td>\n",
       "      <td>0.326114</td>\n",
       "      <td>0.243671</td>\n",
       "      <td>0.410531</td>\n",
       "      <td>0.339519</td>\n",
       "      <td>0.269141</td>\n",
       "      <td>0.300789</td>\n",
       "      <td>0.461679</td>\n",
       "      <td>0.396765</td>\n",
       "      <td>0.489450</td>\n",
       "    </tr>\n",
       "    <tr>\n",
       "      <th>MasVnrArea</th>\n",
       "      <td>0.249070</td>\n",
       "      <td>1.000000</td>\n",
       "      <td>0.252691</td>\n",
       "      <td>0.179618</td>\n",
       "      <td>0.315707</td>\n",
       "      <td>0.280682</td>\n",
       "      <td>0.276833</td>\n",
       "      <td>0.344501</td>\n",
       "      <td>0.363936</td>\n",
       "      <td>0.373066</td>\n",
       "      <td>0.364204</td>\n",
       "      <td>0.390857</td>\n",
       "      <td>0.411876</td>\n",
       "      <td>0.430809</td>\n",
       "    </tr>\n",
       "    <tr>\n",
       "      <th>GarageYrBlt</th>\n",
       "      <td>0.046822</td>\n",
       "      <td>0.252691</td>\n",
       "      <td>1.000000</td>\n",
       "      <td>0.642277</td>\n",
       "      <td>0.825667</td>\n",
       "      <td>0.148112</td>\n",
       "      <td>0.484557</td>\n",
       "      <td>0.233449</td>\n",
       "      <td>0.322445</td>\n",
       "      <td>0.564567</td>\n",
       "      <td>0.588920</td>\n",
       "      <td>0.231197</td>\n",
       "      <td>0.547766</td>\n",
       "      <td>0.541073</td>\n",
       "    </tr>\n",
       "    <tr>\n",
       "      <th>YearRemodAdd</th>\n",
       "      <td>0.112581</td>\n",
       "      <td>0.179618</td>\n",
       "      <td>0.642277</td>\n",
       "      <td>1.000000</td>\n",
       "      <td>0.592855</td>\n",
       "      <td>0.191740</td>\n",
       "      <td>0.439046</td>\n",
       "      <td>0.240379</td>\n",
       "      <td>0.291066</td>\n",
       "      <td>0.371600</td>\n",
       "      <td>0.420622</td>\n",
       "      <td>0.287389</td>\n",
       "      <td>0.550684</td>\n",
       "      <td>0.565608</td>\n",
       "    </tr>\n",
       "    <tr>\n",
       "      <th>YearBuilt</th>\n",
       "      <td>0.147716</td>\n",
       "      <td>0.315707</td>\n",
       "      <td>0.825667</td>\n",
       "      <td>0.592855</td>\n",
       "      <td>1.000000</td>\n",
       "      <td>0.095589</td>\n",
       "      <td>0.468271</td>\n",
       "      <td>0.281986</td>\n",
       "      <td>0.391452</td>\n",
       "      <td>0.478954</td>\n",
       "      <td>0.537850</td>\n",
       "      <td>0.199010</td>\n",
       "      <td>0.572323</td>\n",
       "      <td>0.586570</td>\n",
       "    </tr>\n",
       "    <tr>\n",
       "      <th>TotRmsAbvGrd</th>\n",
       "      <td>0.326114</td>\n",
       "      <td>0.280682</td>\n",
       "      <td>0.148112</td>\n",
       "      <td>0.191740</td>\n",
       "      <td>0.095589</td>\n",
       "      <td>1.000000</td>\n",
       "      <td>0.554784</td>\n",
       "      <td>0.409516</td>\n",
       "      <td>0.285573</td>\n",
       "      <td>0.337822</td>\n",
       "      <td>0.362289</td>\n",
       "      <td>0.825489</td>\n",
       "      <td>0.427452</td>\n",
       "      <td>0.534422</td>\n",
       "    </tr>\n",
       "    <tr>\n",
       "      <th>FullBath</th>\n",
       "      <td>0.243671</td>\n",
       "      <td>0.276833</td>\n",
       "      <td>0.484557</td>\n",
       "      <td>0.439046</td>\n",
       "      <td>0.468271</td>\n",
       "      <td>0.554784</td>\n",
       "      <td>1.000000</td>\n",
       "      <td>0.380637</td>\n",
       "      <td>0.323722</td>\n",
       "      <td>0.405656</td>\n",
       "      <td>0.469672</td>\n",
       "      <td>0.630012</td>\n",
       "      <td>0.550600</td>\n",
       "      <td>0.594771</td>\n",
       "    </tr>\n",
       "    <tr>\n",
       "      <th>FirstFlrSF</th>\n",
       "      <td>0.410531</td>\n",
       "      <td>0.344501</td>\n",
       "      <td>0.233449</td>\n",
       "      <td>0.240379</td>\n",
       "      <td>0.281986</td>\n",
       "      <td>0.409516</td>\n",
       "      <td>0.380637</td>\n",
       "      <td>1.000000</td>\n",
       "      <td>0.819530</td>\n",
       "      <td>0.489782</td>\n",
       "      <td>0.439317</td>\n",
       "      <td>0.566024</td>\n",
       "      <td>0.476224</td>\n",
       "      <td>0.596981</td>\n",
       "    </tr>\n",
       "    <tr>\n",
       "      <th>TotalBsmtSF</th>\n",
       "      <td>0.339519</td>\n",
       "      <td>0.363936</td>\n",
       "      <td>0.322445</td>\n",
       "      <td>0.291066</td>\n",
       "      <td>0.391452</td>\n",
       "      <td>0.285573</td>\n",
       "      <td>0.323722</td>\n",
       "      <td>0.819530</td>\n",
       "      <td>1.000000</td>\n",
       "      <td>0.486665</td>\n",
       "      <td>0.434585</td>\n",
       "      <td>0.454868</td>\n",
       "      <td>0.537808</td>\n",
       "      <td>0.612134</td>\n",
       "    </tr>\n",
       "    <tr>\n",
       "      <th>GarageArea</th>\n",
       "      <td>0.269141</td>\n",
       "      <td>0.373066</td>\n",
       "      <td>0.564567</td>\n",
       "      <td>0.371600</td>\n",
       "      <td>0.478954</td>\n",
       "      <td>0.337822</td>\n",
       "      <td>0.405656</td>\n",
       "      <td>0.489782</td>\n",
       "      <td>0.486665</td>\n",
       "      <td>1.000000</td>\n",
       "      <td>0.882475</td>\n",
       "      <td>0.468997</td>\n",
       "      <td>0.562022</td>\n",
       "      <td>0.650888</td>\n",
       "    </tr>\n",
       "    <tr>\n",
       "      <th>GarageCars</th>\n",
       "      <td>0.300789</td>\n",
       "      <td>0.364204</td>\n",
       "      <td>0.588920</td>\n",
       "      <td>0.420622</td>\n",
       "      <td>0.537850</td>\n",
       "      <td>0.362289</td>\n",
       "      <td>0.469672</td>\n",
       "      <td>0.439317</td>\n",
       "      <td>0.434585</td>\n",
       "      <td>0.882475</td>\n",
       "      <td>1.000000</td>\n",
       "      <td>0.467247</td>\n",
       "      <td>0.600671</td>\n",
       "      <td>0.680625</td>\n",
       "    </tr>\n",
       "    <tr>\n",
       "      <th>GrLivArea</th>\n",
       "      <td>0.461679</td>\n",
       "      <td>0.390857</td>\n",
       "      <td>0.231197</td>\n",
       "      <td>0.287389</td>\n",
       "      <td>0.199010</td>\n",
       "      <td>0.825489</td>\n",
       "      <td>0.630012</td>\n",
       "      <td>0.566024</td>\n",
       "      <td>0.454868</td>\n",
       "      <td>0.468997</td>\n",
       "      <td>0.467247</td>\n",
       "      <td>1.000000</td>\n",
       "      <td>0.593007</td>\n",
       "      <td>0.700927</td>\n",
       "    </tr>\n",
       "    <tr>\n",
       "      <th>OverallQual</th>\n",
       "      <td>0.396765</td>\n",
       "      <td>0.411876</td>\n",
       "      <td>0.547766</td>\n",
       "      <td>0.550684</td>\n",
       "      <td>0.572323</td>\n",
       "      <td>0.427452</td>\n",
       "      <td>0.550600</td>\n",
       "      <td>0.476224</td>\n",
       "      <td>0.537808</td>\n",
       "      <td>0.562022</td>\n",
       "      <td>0.600671</td>\n",
       "      <td>0.593007</td>\n",
       "      <td>1.000000</td>\n",
       "      <td>0.817185</td>\n",
       "    </tr>\n",
       "    <tr>\n",
       "      <th>LogSalePrice</th>\n",
       "      <td>0.489450</td>\n",
       "      <td>0.430809</td>\n",
       "      <td>0.541073</td>\n",
       "      <td>0.565608</td>\n",
       "      <td>0.586570</td>\n",
       "      <td>0.534422</td>\n",
       "      <td>0.594771</td>\n",
       "      <td>0.596981</td>\n",
       "      <td>0.612134</td>\n",
       "      <td>0.650888</td>\n",
       "      <td>0.680625</td>\n",
       "      <td>0.700927</td>\n",
       "      <td>0.817185</td>\n",
       "      <td>1.000000</td>\n",
       "    </tr>\n",
       "  </tbody>\n",
       "</table>\n",
       "</div>"
      ],
      "text/plain": [
       "              Fireplaces  MasVnrArea  GarageYrBlt  YearRemodAdd  YearBuilt  \\\n",
       "Fireplaces      1.000000    0.249070     0.046822      0.112581   0.147716   \n",
       "MasVnrArea      0.249070    1.000000     0.252691      0.179618   0.315707   \n",
       "GarageYrBlt     0.046822    0.252691     1.000000      0.642277   0.825667   \n",
       "YearRemodAdd    0.112581    0.179618     0.642277      1.000000   0.592855   \n",
       "YearBuilt       0.147716    0.315707     0.825667      0.592855   1.000000   \n",
       "TotRmsAbvGrd    0.326114    0.280682     0.148112      0.191740   0.095589   \n",
       "FullBath        0.243671    0.276833     0.484557      0.439046   0.468271   \n",
       "FirstFlrSF      0.410531    0.344501     0.233449      0.240379   0.281986   \n",
       "TotalBsmtSF     0.339519    0.363936     0.322445      0.291066   0.391452   \n",
       "GarageArea      0.269141    0.373066     0.564567      0.371600   0.478954   \n",
       "GarageCars      0.300789    0.364204     0.588920      0.420622   0.537850   \n",
       "GrLivArea       0.461679    0.390857     0.231197      0.287389   0.199010   \n",
       "OverallQual     0.396765    0.411876     0.547766      0.550684   0.572323   \n",
       "LogSalePrice    0.489450    0.430809     0.541073      0.565608   0.586570   \n",
       "\n",
       "              TotRmsAbvGrd  FullBath  FirstFlrSF  TotalBsmtSF  GarageArea  \\\n",
       "Fireplaces        0.326114  0.243671    0.410531     0.339519    0.269141   \n",
       "MasVnrArea        0.280682  0.276833    0.344501     0.363936    0.373066   \n",
       "GarageYrBlt       0.148112  0.484557    0.233449     0.322445    0.564567   \n",
       "YearRemodAdd      0.191740  0.439046    0.240379     0.291066    0.371600   \n",
       "YearBuilt         0.095589  0.468271    0.281986     0.391452    0.478954   \n",
       "TotRmsAbvGrd      1.000000  0.554784    0.409516     0.285573    0.337822   \n",
       "FullBath          0.554784  1.000000    0.380637     0.323722    0.405656   \n",
       "FirstFlrSF        0.409516  0.380637    1.000000     0.819530    0.489782   \n",
       "TotalBsmtSF       0.285573  0.323722    0.819530     1.000000    0.486665   \n",
       "GarageArea        0.337822  0.405656    0.489782     0.486665    1.000000   \n",
       "GarageCars        0.362289  0.469672    0.439317     0.434585    0.882475   \n",
       "GrLivArea         0.825489  0.630012    0.566024     0.454868    0.468997   \n",
       "OverallQual       0.427452  0.550600    0.476224     0.537808    0.562022   \n",
       "LogSalePrice      0.534422  0.594771    0.596981     0.612134    0.650888   \n",
       "\n",
       "              GarageCars  GrLivArea  OverallQual  LogSalePrice  \n",
       "Fireplaces      0.300789   0.461679     0.396765      0.489450  \n",
       "MasVnrArea      0.364204   0.390857     0.411876      0.430809  \n",
       "GarageYrBlt     0.588920   0.231197     0.547766      0.541073  \n",
       "YearRemodAdd    0.420622   0.287389     0.550684      0.565608  \n",
       "YearBuilt       0.537850   0.199010     0.572323      0.586570  \n",
       "TotRmsAbvGrd    0.362289   0.825489     0.427452      0.534422  \n",
       "FullBath        0.469672   0.630012     0.550600      0.594771  \n",
       "FirstFlrSF      0.439317   0.566024     0.476224      0.596981  \n",
       "TotalBsmtSF     0.434585   0.454868     0.537808      0.612134  \n",
       "GarageArea      0.882475   0.468997     0.562022      0.650888  \n",
       "GarageCars      1.000000   0.467247     0.600671      0.680625  \n",
       "GrLivArea       0.467247   1.000000     0.593007      0.700927  \n",
       "OverallQual     0.600671   0.593007     1.000000      0.817185  \n",
       "LogSalePrice    0.680625   0.700927     0.817185      1.000000  "
      ]
     },
     "execution_count": 43,
     "metadata": {},
     "output_type": "execute_result"
    }
   ],
   "source": [
    "corr = train_df.corr()[label].sort_values()\n",
    "valid_correlations = corr[(corr > 0.4) & (corr < 1)].index.tolist()\n",
    "train_df[valid_correlations].corr()"
   ]
  },
  {
   "cell_type": "code",
   "execution_count": 44,
   "id": "f49e9a3a",
   "metadata": {},
   "outputs": [],
   "source": [
    "# compartmentalize in another program"
   ]
  },
  {
   "cell_type": "code",
   "execution_count": 45,
   "id": "72c3b026",
   "metadata": {},
   "outputs": [],
   "source": [
    "y_train = train_low_missing_vals_df['LogSalePrice']\n",
    "train_model_data, test_model_data = data_manipulation.get_train_test_model_data(train_low_missing_vals_df, test_low_missing_vals_df,\\\n",
    "                                                                                numerical_variables, categorical_variables,\\\n",
    "                                                                                'SalePrice', target2='LogSalePrice')\n",
    "\n",
    "train_drop_columns = list(set(train_model_data.columns) - set(test_model_data.columns))\n",
    "train_model_data_final = train_model_data.drop(train_drop_columns, axis='columns')"
   ]
  },
  {
   "cell_type": "markdown",
   "id": "a8820950",
   "metadata": {},
   "source": [
    "## Modeling <a id='modeling'></a>"
   ]
  },
  {
   "cell_type": "markdown",
   "id": "09fd4ce9",
   "metadata": {},
   "source": [
    "### Default random forest regressor"
   ]
  },
  {
   "cell_type": "code",
   "execution_count": 46,
   "id": "caee16c8",
   "metadata": {},
   "outputs": [],
   "source": [
    "import pickle"
   ]
  },
  {
   "cell_type": "code",
   "execution_count": 47,
   "id": "c0a58188",
   "metadata": {},
   "outputs": [
    {
     "name": "stdout",
     "output_type": "stream",
     "text": [
      "mean RMSLE = 0.14209999066690118, std RMSLE = 0.00972142378293112\n",
      "CPU times: total: 24 s\n",
      "Wall time: 33.7 s\n"
     ]
    }
   ],
   "source": [
    "%%time\n",
    "rf_model_default = RandomForestRegressor().fit(train_model_data_final, y_train)\n",
    "modeling.evaluate(train_model_data_final, y_train, rf_model_default)\n",
    "filename = 'rf_default_model.pkl'\n",
    "pickle.dump(rf_model_default, open(filename, 'wb'))\n"
   ]
  },
  {
   "cell_type": "code",
   "execution_count": 48,
   "id": "a8864290",
   "metadata": {},
   "outputs": [],
   "source": [
    "#modeling section in new program"
   ]
  },
  {
   "cell_type": "markdown",
   "id": "e3ff53dd",
   "metadata": {},
   "source": [
    "### RandomForest Regressor"
   ]
  },
  {
   "cell_type": "code",
   "execution_count": 49,
   "id": "1b3c69e4",
   "metadata": {},
   "outputs": [
    {
     "name": "stderr",
     "output_type": "stream",
     "text": [
      "C:\\Users\\Nikhil\\anaconda3\\lib\\site-packages\\sklearn\\model_selection\\_search.py:306: UserWarning: The total space of parameters 16 is smaller than n_iter=100. Running 16 iterations. For exhaustive searches, use GridSearchCV.\n",
      "  warnings.warn(\n"
     ]
    },
    {
     "name": "stdout",
     "output_type": "stream",
     "text": [
      "mean RMSLE = 0.19647765698202765, std RMSLE = 0.006551179403259499\n",
      "CPU times: total: 35.2 s\n",
      "Wall time: 44.5 s\n"
     ]
    }
   ],
   "source": [
    "%%time\n",
    "rf_param_grid = {\n",
    "    'n_estimators': [30, 40],\n",
    "    'max_depth':[2,3],\n",
    "    'min_samples_split':[20, 30],\n",
    "    'min_samples_leaf':[20, 30]\n",
    "}\n",
    "\n",
    "rf_model = modeling.get_random_forest_regressor_results(train_model_data_final, y_train, param_grid=rf_param_grid, test=None, y_test=None)\n",
    "\n",
    "model = RandomForestRegressor(**rf_model.best_params_).fit(train_model_data_final, y_train)\n",
    "modeling.evaluate(train_model_data_final, y_train,model)"
   ]
  },
  {
   "cell_type": "markdown",
   "id": "22110536",
   "metadata": {},
   "source": [
    "### Decision Tree"
   ]
  },
  {
   "cell_type": "code",
   "execution_count": 50,
   "id": "0a4550f6",
   "metadata": {
    "scrolled": false
   },
   "outputs": [
    {
     "name": "stderr",
     "output_type": "stream",
     "text": [
      "C:\\Users\\Nikhil\\anaconda3\\lib\\site-packages\\sklearn\\model_selection\\_search.py:306: UserWarning: The total space of parameters 64 is smaller than n_iter=100. Running 64 iterations. For exhaustive searches, use GridSearchCV.\n",
      "  warnings.warn(\n",
      "C:\\Users\\Nikhil\\anaconda3\\lib\\site-packages\\sklearn\\model_selection\\_search.py:306: UserWarning: The total space of parameters 64 is smaller than n_iter=100. Running 64 iterations. For exhaustive searches, use GridSearchCV.\n",
      "  warnings.warn(\n",
      "C:\\Users\\Nikhil\\anaconda3\\lib\\site-packages\\sklearn\\model_selection\\_search.py:306: UserWarning: The total space of parameters 64 is smaller than n_iter=100. Running 64 iterations. For exhaustive searches, use GridSearchCV.\n",
      "  warnings.warn(\n",
      "C:\\Users\\Nikhil\\anaconda3\\lib\\site-packages\\sklearn\\model_selection\\_search.py:306: UserWarning: The total space of parameters 64 is smaller than n_iter=100. Running 64 iterations. For exhaustive searches, use GridSearchCV.\n",
      "  warnings.warn(\n",
      "C:\\Users\\Nikhil\\anaconda3\\lib\\site-packages\\sklearn\\model_selection\\_search.py:306: UserWarning: The total space of parameters 64 is smaller than n_iter=100. Running 64 iterations. For exhaustive searches, use GridSearchCV.\n",
      "  warnings.warn(\n",
      "C:\\Users\\Nikhil\\anaconda3\\lib\\site-packages\\sklearn\\model_selection\\_search.py:306: UserWarning: The total space of parameters 64 is smaller than n_iter=100. Running 64 iterations. For exhaustive searches, use GridSearchCV.\n",
      "  warnings.warn(\n"
     ]
    },
    {
     "name": "stdout",
     "output_type": "stream",
     "text": [
      "mean RMSLE = 0.3992256860383698, std RMSLE = 0.015929916505866743\n",
      "CPU times: total: 38.9 s\n",
      "Wall time: 50.6 s\n"
     ]
    }
   ],
   "source": [
    "%%time\n",
    "\n",
    "dt_param_grid = {\n",
    "    'max_depth':[2,3],\n",
    "    'min_samples_split':[50, 30],\n",
    "    'min_samples_leaf':[50, 30],\n",
    "    'max_features' : [30, 40],\n",
    "    'min_impurity_decrease': [i/100 for i in range(1, 3)],\n",
    "    'ccp_alpha': [i/10 for i in range(1, 3)]\n",
    "}\n",
    "\n",
    "dt_model = modeling.get_decision_tree_model(train_model_data_final, y_train, dt_param_grid)\n",
    "modeling.evaluate(train_model_data_final, y_train, dt_model)"
   ]
  },
  {
   "cell_type": "markdown",
   "id": "c06f1df5",
   "metadata": {},
   "source": [
    "###  XGBRegressor"
   ]
  },
  {
   "cell_type": "code",
   "execution_count": 51,
   "id": "c688fc8e",
   "metadata": {},
   "outputs": [
    {
     "name": "stdout",
     "output_type": "stream",
     "text": [
      "mean RMSLE = 5.142351050249056, std RMSLE = 0.01570371335182782\n",
      "mean RMSLE = 5.1422521013551625, std RMSLE = 0.01544287904286843\n",
      "MAE = 179928.26673997854\n",
      "RMSLE = 196612.05255440506\n",
      "CPU times: total: 1h 4min 4s\n",
      "Wall time: 12min 37s\n"
     ]
    }
   ],
   "source": [
    "%%time\n",
    "\n",
    "xgb_param_grid = {\n",
    "    'n_estimators': [30, 40],\n",
    "    'max_depth':[2,3],\n",
    "    'max_leaves':[20, 30],\n",
    "    'reg_alpha': [i/100 for i in range(1,3)],\n",
    "    'reg_lambda': [i/100 for i in range(1,3)],\n",
    "    'colsample_bytree': [i/10 for i in range(1, 3)],\n",
    "    'min_child_weight': [10*i for i in range(1,3)],\n",
    "    'learning_rate': [i/100 for i in range(1,3)]\n",
    "}\n",
    "\n",
    "xgb_model = modeling.get_xgb_regressor_model(train_model_data_final, y_train, xgb_param_grid)\n",
    "modeling.evaluate(train_model_data_final, y_train, xgb_model)\n",
    "\n",
    "xgb_regressor = XGBRegressor(**xgb_model.best_params_)\n",
    "scores = cross_val_score(xgb_regressor, train_model_data_final, y_train, scoring='neg_root_mean_squared_error', cv=5)\n",
    "print(f'mean RMSLE = {-np.mean(scores)}, std RMSLE = {np.std(scores)}')\n",
    "\n",
    "from sklearn.metrics import mean_squared_error, mean_squared_log_error, mean_absolute_error\n",
    "\n",
    "xgb_regressor = XGBRegressor(**xgb_model.best_params_).fit(train_model_data_final, y_train)\n",
    "train_pred = xgb_regressor.predict(train_model_data_final)\n",
    "train_pred = np.exp(train_pred) - 1\n",
    "print(f'MAE = {mean_absolute_error(train_df[\"SalePrice\"], train_pred)}')\n",
    "print(f'RMSLE = {np.sqrt(mean_squared_error(train_df[\"SalePrice\"], train_pred))}')\n",
    "test_pred = xgb_regressor.predict(test_model_data.drop('MSSubClass_150', axis='columns'))\n",
    "test_pred = np.exp(test_pred) - 1\n",
    "test_df['PredictedSalePrice'] = test_pred\n",
    "test_df[['Id', 'PredictedSalePrice']].to_csv('xgb_predicted.csv', index=False)"
   ]
  },
  {
   "cell_type": "markdown",
   "id": "6ca94a71",
   "metadata": {},
   "source": [
    "### Linear Regression"
   ]
  },
  {
   "cell_type": "code",
   "execution_count": 52,
   "id": "0e796aaf",
   "metadata": {},
   "outputs": [
    {
     "name": "stdout",
     "output_type": "stream",
     "text": [
      "mean RMSLE = 0.17140003259393077, std RMSLE = 0.027991473177328228\n"
     ]
    }
   ],
   "source": [
    "lr_model = modeling.get_linear_regressor_model(train_model_data_final, y_train)\n",
    "modeling.evaluate(train_model_data_final, y_train, lr_model)"
   ]
  },
  {
   "cell_type": "markdown",
   "id": "c6c492d4",
   "metadata": {},
   "source": [
    "### Lasso Regression"
   ]
  },
  {
   "cell_type": "code",
   "execution_count": 53,
   "id": "f8167b7a",
   "metadata": {},
   "outputs": [
    {
     "name": "stdout",
     "output_type": "stream",
     "text": [
      "mean RMSLE = 0.14418176386928863\n",
      "CPU times: total: 656 ms\n",
      "Wall time: 408 ms\n"
     ]
    }
   ],
   "source": [
    "%%time\n",
    "lasso_param_grid = {\n",
    "    'alpha':[i/100 for i in range(1, 3)]\n",
    "}\n",
    "lasso_gs = modeling.get_lasso_regression_model(train_model_data_final, y_train, lasso_param_grid)\n",
    "lasso = Lasso(**lasso_gs.best_params_)\n",
    "scaler = StandardScaler().fit(train_model_data_final, y_train)\n",
    "scores = cross_val_score(lasso, scaler.transform(train_model_data_final), y_train, scoring='neg_root_mean_squared_error', cv=5)\n",
    "print(f'mean RMSLE = {-np.mean(scores)}')"
   ]
  },
  {
   "cell_type": "markdown",
   "id": "5914c34b",
   "metadata": {},
   "source": [
    "### Elastic Net Regression"
   ]
  },
  {
   "cell_type": "code",
   "execution_count": 54,
   "id": "0cb489a3",
   "metadata": {},
   "outputs": [
    {
     "name": "stdout",
     "output_type": "stream",
     "text": [
      "mean RMSLE = 0.15132605569444632, std RMSLE = 0.02434875878994365\n",
      "CPU times: total: 7.61 s\n",
      "Wall time: 3.16 s\n"
     ]
    }
   ],
   "source": [
    "%%time\n",
    "elastic_net_param_grid = {\n",
    "    'alpha': [100*i for i in range(1,11)] + [i/100 for i in range(1,3)],\n",
    "    'l1_ratio':[i/100 for i in range(1,3)]\n",
    "}\n",
    "\n",
    "elastic_net_model = modeling.get_elastic_net_regressor_model(train_model_data_final, y_train, elastic_net_param_grid)\n",
    "best_elastic_net_model = ElasticNet(**elastic_net_model.best_params_)\n",
    "modeling.evaluate(StandardScaler().fit_transform(train_model_data_final), y_train, best_elastic_net_model)"
   ]
  },
  {
   "cell_type": "code",
   "execution_count": 55,
   "id": "c36c5adb",
   "metadata": {},
   "outputs": [
    {
     "data": {
      "text/plain": [
       "{'alpha': 0.02, 'l1_ratio': 0.02}"
      ]
     },
     "execution_count": 55,
     "metadata": {},
     "output_type": "execute_result"
    }
   ],
   "source": [
    "elastic_net_model.best_params_"
   ]
  },
  {
   "cell_type": "code",
   "execution_count": 56,
   "id": "a6521d45",
   "metadata": {},
   "outputs": [
    {
     "name": "stdout",
     "output_type": "stream",
     "text": [
      "mean RMSLE = 0.15132605569444632\n"
     ]
    }
   ],
   "source": [
    "#el_net = ElasticNet(**elastic_net_model.best_params_)\n",
    "scores = cross_val_score(best_elastic_net_model, StandardScaler().fit_transform(train_model_data_final), y_train, scoring='neg_root_mean_squared_error', cv=5)\n",
    "print(f'mean RMSLE = {-np.mean(scores)}')"
   ]
  },
  {
   "cell_type": "markdown",
   "id": "dd4bb0c6",
   "metadata": {},
   "source": [
    "### KNN Regressor"
   ]
  },
  {
   "cell_type": "code",
   "execution_count": 57,
   "id": "7b0ee935",
   "metadata": {},
   "outputs": [
    {
     "name": "stderr",
     "output_type": "stream",
     "text": [
      "C:\\Users\\Nikhil\\anaconda3\\lib\\site-packages\\sklearn\\model_selection\\_search.py:306: UserWarning: The total space of parameters 48 is smaller than n_iter=100. Running 48 iterations. For exhaustive searches, use GridSearchCV.\n",
      "  warnings.warn(\n"
     ]
    },
    {
     "name": "stdout",
     "output_type": "stream",
     "text": [
      "mean RMSLE = 0.20376538868577163, std RMSLE = 0.006544415044060678\n",
      "CPU times: total: 1min 8s\n",
      "Wall time: 47.6 s\n"
     ]
    }
   ],
   "source": [
    "%%time\n",
    "\n",
    "knn_param_grid = {\n",
    "    'weights' : ['uniform', 'distance'],\n",
    "    'algorithm' : ['brute', 'ball_tree', 'kd_tree'],\n",
    "    'n_neighbors' : [10*i for i in range(1,3)],\n",
    "    'leaf_size': [10*i for i in range(1,3)],\n",
    "    'p': [i for i in range(1,3)],\n",
    "}\n",
    "\n",
    "\n",
    "knn_grid_search = modeling.get_knn_regressor_model(train_model_data_final, y_train, knn_param_grid)\n",
    "knn_regressor = KNeighborsRegressor(**knn_grid_search.best_params_)\n",
    "modeling.evaluate(train_model_data_final, y_train, knn_regressor)"
   ]
  },
  {
   "cell_type": "markdown",
   "id": "64411da0",
   "metadata": {},
   "source": [
    "### Stacking Regressor with Lasso, Ridge, Elastic, Random Forest, and XGBRegressor as the final estimator"
   ]
  },
  {
   "cell_type": "code",
   "execution_count": 58,
   "id": "d0992613",
   "metadata": {},
   "outputs": [
    {
     "name": "stderr",
     "output_type": "stream",
     "text": [
      "C:\\Users\\Nikhil\\anaconda3\\lib\\site-packages\\sklearn\\linear_model\\_coordinate_descent.py:648: ConvergenceWarning: Objective did not converge. You might want to increase the number of iterations, check the scale of the features or consider increasing regularisation. Duality gap: 1.147e+00, tolerance: 1.509e-02\n",
      "  model = cd_fast.enet_coordinate_descent(\n"
     ]
    },
    {
     "name": "stdout",
     "output_type": "stream",
     "text": [
      "mean RMSLE = 5.141168118210303, std RMSLE = 0.011603195447551994\n"
     ]
    }
   ],
   "source": [
    "estimators = [\n",
    "     ('KNN', KNeighborsRegressor(**knn_grid_search.best_params_)),\n",
    "    ('Lasso', Lasso(**lasso_gs.best_params_)),\n",
    "    ('Ridge', Ridge(alpha=580)),\n",
    "    ('Elastic', ElasticNet(**elastic_net_model.best_params_)),\n",
    "    ('RandomForestRegressor', RandomForestRegressor())\n",
    "]\n",
    "\n",
    "final_estimator=XGBRegressor(**xgb_model.best_params_)\n",
    "\n",
    "stacking_regressor = modeling.get_stacking_regressor(train_model_data_final, y_train, estimators, final_estimator)\n",
    "\n",
    "modeling.evaluate(train_model_data_final, y_train, stacking_regressor)"
   ]
  },
  {
   "cell_type": "code",
   "execution_count": 59,
   "id": "3446468d",
   "metadata": {},
   "outputs": [
    {
     "name": "stdout",
     "output_type": "stream",
     "text": [
      "CPU times: total: 30.6 s\n",
      "Wall time: 35.9 s\n"
     ]
    }
   ],
   "source": [
    "%%time\n",
    "stacking_regressor = stacking_regressor.fit(train_model_data_final, y_train)\n",
    "test_pred = stacking_regressor.predict(test_model_data.drop('MSSubClass_150', axis='columns'))\n",
    "test_pred = np.exp(test_pred) - 1\n",
    "test_df['PredictedSalePrice'] = test_pred\n",
    "test_df[['Id', 'PredictedSalePrice']].to_csv('stacking_stacking_regressorressor_xgb_predicted.csv', index=False)"
   ]
  },
  {
   "cell_type": "code",
   "execution_count": 60,
   "id": "a6734492",
   "metadata": {},
   "outputs": [
    {
     "name": "stderr",
     "output_type": "stream",
     "text": [
      "C:\\Users\\Nikhil\\anaconda3\\lib\\site-packages\\sklearn\\linear_model\\_coordinate_descent.py:648: ConvergenceWarning: Objective did not converge. You might want to increase the number of iterations, check the scale of the features or consider increasing regularisation. Duality gap: 1.147e+00, tolerance: 1.509e-02\n",
      "  model = cd_fast.enet_coordinate_descent(\n"
     ]
    },
    {
     "name": "stdout",
     "output_type": "stream",
     "text": [
      "mean RMSLE = 0.1300674332791923, std RMSLE = 0.010709599685574183\n",
      "CPU times: total: 1min 24s\n",
      "Wall time: 22 s\n"
     ]
    }
   ],
   "source": [
    "%%time\n",
    "estimators = [\n",
    "     ('KNN', KNeighborsRegressor(**knn_grid_search.best_params_)),\n",
    "    ('Lasso', Lasso(**lasso_gs.best_params_)),\n",
    "    ('Ridge', Ridge(alpha=580)),\n",
    "    ('Elastic', ElasticNet(**elastic_net_model.best_params_)),\n",
    "    ('XGBRegressor', XGBRegressor(**xgb_model.best_params_))\n",
    "]\n",
    "\n",
    "\n",
    "\n",
    "final_estimator=RandomForestRegressor()\n",
    "\n",
    "stacking_regressor = modeling.get_stacking_regressor(train_model_data_final, y_train, estimators, final_estimator)\n",
    "\n",
    "modeling.evaluate(train_model_data_final, y_train, stacking_regressor)\n",
    "\n"
   ]
  },
  {
   "cell_type": "code",
   "execution_count": 61,
   "id": "2bc69de1",
   "metadata": {},
   "outputs": [
    {
     "name": "stdout",
     "output_type": "stream",
     "text": [
      "CPU times: total: 17.3 s\n",
      "Wall time: 5.17 s\n"
     ]
    }
   ],
   "source": [
    "%%time\n",
    "stacking_regressor = stacking_regressor.fit(train_model_data_final, y_train)\n",
    "test_pred = stacking_regressor.predict(test_model_data.drop('MSSubClass_150', axis='columns'))\n",
    "test_pred = np.exp(test_pred) - 1\n",
    "test_df['PredictedSalePrice'] = test_pred\n",
    "test_df[['Id', 'PredictedSalePrice']].to_csv('stacking_regressor_rf.csv', index=False)"
   ]
  },
  {
   "cell_type": "markdown",
   "id": "037ac69b",
   "metadata": {},
   "source": [
    "Both stacking regressors have far lower RMSLE's than the other models, it just goes to show you how powerful stacking is "
   ]
  }
 ],
 "metadata": {
  "kernelspec": {
   "display_name": "Python 3 (ipykernel)",
   "language": "python",
   "name": "python3"
  },
  "language_info": {
   "codemirror_mode": {
    "name": "ipython",
    "version": 3
   },
   "file_extension": ".py",
   "mimetype": "text/x-python",
   "name": "python",
   "nbconvert_exporter": "python",
   "pygments_lexer": "ipython3",
   "version": "3.9.12"
  }
 },
 "nbformat": 4,
 "nbformat_minor": 5
}
